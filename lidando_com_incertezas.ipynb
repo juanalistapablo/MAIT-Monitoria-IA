{
  "nbformat": 4,
  "nbformat_minor": 0,
  "metadata": {
    "colab": {
      "provenance": [],
      "authorship_tag": "ABX9TyMO5HmaFTkWV6imUNk6+o9O",
      "include_colab_link": true
    },
    "kernelspec": {
      "name": "python3",
      "display_name": "Python 3"
    },
    "language_info": {
      "name": "python"
    }
  },
  "cells": [
    {
      "cell_type": "markdown",
      "metadata": {
        "id": "view-in-github",
        "colab_type": "text"
      },
      "source": [
        "<a href=\"https://colab.research.google.com/github/juanalistapablo/MAIT-Monitoria-IA/blob/main/lidando_com_incertezas.ipynb\" target=\"_parent\"><img src=\"https://colab.research.google.com/assets/colab-badge.svg\" alt=\"Open In Colab\"/></a>"
      ]
    },
    {
      "cell_type": "markdown",
      "source": [
        "E importante entender que nem todo ambientes e sistemas tem uma probabilidade bastante precisa. Além disso, e importantante, muitas vezes, a ocorrência de um evento poderia influenciar na ocorrência ou não de outros. Neste Material Didatico, analisaremos um cenário em anbiente incertos."
      ],
      "metadata": {
        "id": "DUXVNyZkKqVa"
      }
    },
    {
      "cell_type": "markdown",
      "source": [
        "# Lidando com incertezas"
      ],
      "metadata": {
        "id": "HiOReEj5Lzxa"
      }
    },
    {
      "cell_type": "markdown",
      "source": [
        "Um evento pode ser, por exemplo, uma decisão ou qualquer acontecimento que podemos entender no mundo da modelagem e da inteligência artificial.\n",
        "\n",
        "Quando lidamos com a previsão de vendas de um produto no contexto de e-commerce, essa previsão não é um cálculo exato, mas uma **estimativa**. Por exemplo: em um e-commerce que vende eletrônicos, vamos prever a venda de fones de ouvido Bluetooth ao longo do ano.\n",
        "\n",
        "Essa estimativa pode ser afetada por diversos eventos, como: o surgimento de novos e-commerces; novos tipos de fones Bluetooth; avanços tecnológicos; ou problemas na plataforma de comércio eletrônico que podem impactar a confiança do consumidor.\n",
        "\n",
        "Todos esses eventos, embora alguns sejam indesejáveis do ponto de vista do negócio, podem acontecer e devemos **modelar esses fatores para ter uma boa estimativa**, em vez de simplesmente extrapolar dados passados.\n",
        "\n",
        "No dia a dia, sempre fazemos estimativas. Para isso, utilizamos heurísticas, isto é, dados e informações prévias, além de hipóteses que acumulamos e usamos para fazer esse cálculo.\n",
        "\n",
        "No entanto, no mundo da computação, não podemos usar essas **heurísticas** de forma implícita. Precisamos lidar com esses **eventos incertos**, de modo a entender como um evento pode influenciar em outro ao **longo da cadeia de eventos**."
      ],
      "metadata": {
        "id": "SM11R8k-L3KB"
      }
    },
    {
      "cell_type": "markdown",
      "source": [
        "# Raciocínio probabilístico"
      ],
      "metadata": {
        "id": "8PT0kd-CMy-G"
      }
    },
    {
      "cell_type": "markdown",
      "source": [
        "Para isso, temos que lidar com incertezas. Quando lidamos com incertezas, um termo chave para conduzir o processo é raciocínio probabilístico.\n",
        "\n",
        "Nesse momento, entramos no mundo da probabilidade estatística, campo da matemática muito importante para a IA, não apenas para lidar com ambientes incertos, mas por ser uma base essencial na construção de algoritmos como redes neurais do aprendizado de máquina.\n",
        "\n",
        "O raciocínio probabilístico nos ajuda a modelar as incertezas que precisamos lidar em sistemas de diferentes ambientes. Com isso, conseguimos **prever a ocorrência de eventos e tomar decisões** com base na **probabilidade de ocorrência**."
      ],
      "metadata": {
        "id": "RHKFglQYM55t"
      }
    },
    {
      "cell_type": "markdown",
      "source": [
        "# Analisando o caso do e-commerce"
      ],
      "metadata": {
        "id": "16T8t0cQNIi3"
      }
    },
    {
      "cell_type": "markdown",
      "source": [
        "No caso do e-commerce, queremos fazer uma previsão de vendas. Para isso, poderíamos usar uma distribuição de probabilidade para modelar a demanda.\n",
        "\n",
        "Ao mesmo tempo, conseguiríamos ter uma estimativa de venda nos próximos meses, tudo isso usando teorias e modelos da probabilidade para conseguirmos ter uma estimativa razoável em um certo intervalo de confiança.\n",
        "\n",
        "Nesse sentido, a probabilidade ajuda a quantificar incertezas e, a partir disso, fazer previsões e ter mais dados para uma boa tomada de decisão."
      ],
      "metadata": {
        "id": "bcdAP_AJNOxF"
      }
    },
    {
      "cell_type": "markdown",
      "source": [
        "# Conceitos fundamentais"
      ],
      "metadata": {
        "id": "01Ywigv_NVG8"
      }
    },
    {
      "cell_type": "markdown",
      "source": [
        "Alguns conceitos fundamentais no mundo da probabilidade são:\n",
        "\n",
        "   * **Variáveis aleatórias:** representam eventos incertos. Como essa variável não assumirá um valor exato, ela pode assumir um conjunto de valores. Isso é comum no mundo da computação e da matemática, por isso nomeamos como variável aleatória. Um exemplo de variável aleatória é o número que obteremos ao lançar um dado: o evento de qual face sairá no dado é um evento aleatório; temos a probabilidade de sair o número 6, o número 1, o número 2, o número 3, o número 4 e o número 5. São probabilidades iguais, mas nunca sabemos a princípio qual será o número obtido;\n",
        "\n",
        "   * **Distribuições probabilísticas:** outro conceito fundamental no mundo da probabilidade, determinam como as variáveis aleatórias se comportarão.\n",
        "\n",
        "\n",
        "\n"
      ],
      "metadata": {
        "id": "cDQciSGZNZLy"
      }
    },
    {
      "cell_type": "markdown",
      "source": [
        "# Analisando o caso do e-commerce\n"
      ],
      "metadata": {
        "id": "ZdhkmmOfOmt-"
      }
    },
    {
      "cell_type": "markdown",
      "source": [
        "No caso do e-commerce, a quantidade de vendas por dia é uma distribuição discreta, pois temos um número definido. Por exemplo: vendemos 10 unidades do fone hoje; venderemos 20 amanhã; talvez 15 na próxima semana; e assim em diante. Isso é um número discreto.\n",
        "\n",
        "Por outro lado, ao lidar com o tempo médio de entrega de um fone, temos variáveis contínuas, como é o caso do tempo, em que utilizamos a distribuição contínua para modelar a variável."
      ],
      "metadata": {
        "id": "YRTuKE7PO25S"
      }
    },
    {
      "cell_type": "markdown",
      "source": [
        "# Teorema de Bayes"
      ],
      "metadata": {
        "id": "Ob48j6OaO679"
      }
    },
    {
      "cell_type": "markdown",
      "source": [
        "Um importante aliado no processo de quantificação das incertezas e probabilidades é o Teorema de Bayes, que ajuda a descrever a probabilidade de um evento.\n",
        "\n",
        "Por exemplo: dado que o evento A ocorreu, qual a probabilidade do evento B ocorrer? Dado que uma pessoa cliente está navegando na página de fones de ouvido e tem um histórico de compra de dispositivos para ouvir música, qual a probabilidade dela escolher um fone no site?\n",
        "\n",
        "Por exemplo: dado que o evento\n",
        "$𝐴$\n",
        " ocorreu, qual a probabilidade do evento\n",
        "$𝐵$\n",
        " ocorrer? Essa pergunta é respondida com o Teorema de Bayes, cuja formulação matemática é:\n",
        "\n",
        "\n",
        "  $$\n",
        "  P(B \\mid A) = \\frac{P(A \\mid B) \\cdot P(B)}{P(A)}\n",
        "  $$\n",
        "\n",
        "Onde:\n",
        "\n",
        "- $ P(B \\mid A)$: **probabilidade posterior** – a probabilidade do evento \\( $B$ \\) ocorrer, dado que \\( $A$ \\)  ocorreu.\n",
        "- $P(A \\mid B)$ : **verossimilhança** – a probabilidade do evento \\( $A$ \\) ocorrer, dado que \\( $B$ \\) ocorreu.\n",
        "- $P(B)$: **probabilidade a priori** – a probabilidade do evento \\( $B$ \\) ocorrer antes da evidência.\n",
        "- $P(A)$: **probabilidade marginal** – a probabilidade total do evento \\( $A$ \\) ocorrer.\n",
        "\n",
        "Para isso, poderíamos utilizar o Teorema de Bayes. Ele é adotado em muitos sistemas que lidam com informações dinâmicas. O que seriam informações dinâmicas quando lidamos com um sistema que tem uma grande ocorrência de eventos?\n",
        "\n",
        "Em um site, cada clique representa um evento. Com base nessa navegação, tentamos estimar a probabilidade da pessoa cliente comprar um notebook, por exemplo, estando na seção de livros. Conseguimos realizar esse tipo de estimativa com o Teorema de Bayes."
      ],
      "metadata": {
        "id": "AgSVrQEXPpsy"
      }
    },
    {
      "cell_type": "markdown",
      "source": [
        "# Redes bayesianas"
      ],
      "metadata": {
        "id": "yxlthPEWRfkB"
      }
    },
    {
      "cell_type": "markdown",
      "source": [
        "\n",
        "Ao lidar com dependências entre diferentes variáveis aleatórias, podemos usar redes bayesianas. Elas nos ajudam a modelar a dependência entre as variáveis.\n",
        "\n",
        "Com isso, podemos realizar o cálculo das probabilidades de eventos.\n",
        "\n",
        "No dia a dia, além do Teorema de Bayes, há uma série de variáveis dependentes. O cliente estar em uma seção específica, e ter um histórico específico, por exemplo, representa variáveis diferentes. Para chegar na probabilidade de comprar determinado produto, precisamos modelar a dependência entre diferentes variáveis. Por isso, é comum usar essas redes.\n",
        "\n",
        "Entendendo a estrutura das redes bayesianas"
      ],
      "metadata": {
        "id": "4pQraBZYRcxk"
      }
    },
    {
      "cell_type": "markdown",
      "source": [
        "# Entendendo a estrutura das redes bayesianas"
      ],
      "metadata": {
        "id": "3l2Y8zNsRw0N"
      }
    },
    {
      "cell_type": "markdown",
      "source": [
        "Uma rede bayesiana possui a seguinte estrutura:\n",
        "\n",
        "**Nós**, que representam as variáveis aleatórias;\n",
        "\n",
        "**Arestas** (ou setas), que representam a relação de dependência entre as variáveis, ou seja, como uma está relacionada à outra;\n",
        "\n",
        "**Tabelas de probabilidade condicional**, que definem as probabilidades de cada variável, isto é, de cada evento que essas variáveis representam em relação à ocorrência desses eventos, dado o estado das variáveis relacionadas.\n"
      ],
      "metadata": {
        "id": "0UYNdOUZR3nL"
      }
    },
    {
      "cell_type": "markdown",
      "source": [
        "# Analisando um exemplo de código"
      ],
      "metadata": {
        "id": "-CS9ZTBOSCtw"
      }
    },
    {
      "cell_type": "markdown",
      "source": [
        "Para entendermos melhor como implementar e usar as redes bayesianas na prática, trouxemos um exemplo de código em *Python*. Observe abaixo:\n",
        "\n",
        "`incerteza.py:`"
      ],
      "metadata": {
        "id": "N1KDl9XfSE-6"
      }
    },
    {
      "cell_type": "code",
      "source": [
        "!pip install pgmpy"
      ],
      "metadata": {
        "colab": {
          "base_uri": "https://localhost:8080/"
        },
        "collapsed": true,
        "id": "W6PXYR5hSha3",
        "outputId": "7b03ea2d-268c-47ce-c35a-17c6bfd87f14"
      },
      "execution_count": null,
      "outputs": [
        {
          "output_type": "stream",
          "name": "stdout",
          "text": [
            "Collecting pgmpy\n",
            "  Downloading pgmpy-1.0.0-py3-none-any.whl.metadata (9.4 kB)\n",
            "Requirement already satisfied: networkx in /usr/local/lib/python3.11/dist-packages (from pgmpy) (3.4.2)\n",
            "Requirement already satisfied: numpy in /usr/local/lib/python3.11/dist-packages (from pgmpy) (2.0.2)\n",
            "Requirement already satisfied: scipy in /usr/local/lib/python3.11/dist-packages (from pgmpy) (1.15.3)\n",
            "Requirement already satisfied: scikit-learn in /usr/local/lib/python3.11/dist-packages (from pgmpy) (1.6.1)\n",
            "Requirement already satisfied: pandas in /usr/local/lib/python3.11/dist-packages (from pgmpy) (2.2.2)\n",
            "Requirement already satisfied: torch in /usr/local/lib/python3.11/dist-packages (from pgmpy) (2.6.0+cu124)\n",
            "Requirement already satisfied: statsmodels in /usr/local/lib/python3.11/dist-packages (from pgmpy) (0.14.4)\n",
            "Requirement already satisfied: tqdm in /usr/local/lib/python3.11/dist-packages (from pgmpy) (4.67.1)\n",
            "Requirement already satisfied: joblib in /usr/local/lib/python3.11/dist-packages (from pgmpy) (1.5.0)\n",
            "Requirement already satisfied: opt-einsum in /usr/local/lib/python3.11/dist-packages (from pgmpy) (3.4.0)\n",
            "Collecting pyro-ppl (from pgmpy)\n",
            "  Downloading pyro_ppl-1.9.1-py3-none-any.whl.metadata (7.8 kB)\n",
            "Requirement already satisfied: python-dateutil>=2.8.2 in /usr/local/lib/python3.11/dist-packages (from pandas->pgmpy) (2.9.0.post0)\n",
            "Requirement already satisfied: pytz>=2020.1 in /usr/local/lib/python3.11/dist-packages (from pandas->pgmpy) (2025.2)\n",
            "Requirement already satisfied: tzdata>=2022.7 in /usr/local/lib/python3.11/dist-packages (from pandas->pgmpy) (2025.2)\n",
            "Collecting pyro-api>=0.1.1 (from pyro-ppl->pgmpy)\n",
            "  Downloading pyro_api-0.1.2-py3-none-any.whl.metadata (2.5 kB)\n",
            "Requirement already satisfied: filelock in /usr/local/lib/python3.11/dist-packages (from torch->pgmpy) (3.18.0)\n",
            "Requirement already satisfied: typing-extensions>=4.10.0 in /usr/local/lib/python3.11/dist-packages (from torch->pgmpy) (4.13.2)\n",
            "Requirement already satisfied: jinja2 in /usr/local/lib/python3.11/dist-packages (from torch->pgmpy) (3.1.6)\n",
            "Requirement already satisfied: fsspec in /usr/local/lib/python3.11/dist-packages (from torch->pgmpy) (2025.3.2)\n",
            "Collecting nvidia-cuda-nvrtc-cu12==12.4.127 (from torch->pgmpy)\n",
            "  Downloading nvidia_cuda_nvrtc_cu12-12.4.127-py3-none-manylinux2014_x86_64.whl.metadata (1.5 kB)\n",
            "Collecting nvidia-cuda-runtime-cu12==12.4.127 (from torch->pgmpy)\n",
            "  Downloading nvidia_cuda_runtime_cu12-12.4.127-py3-none-manylinux2014_x86_64.whl.metadata (1.5 kB)\n",
            "Collecting nvidia-cuda-cupti-cu12==12.4.127 (from torch->pgmpy)\n",
            "  Downloading nvidia_cuda_cupti_cu12-12.4.127-py3-none-manylinux2014_x86_64.whl.metadata (1.6 kB)\n",
            "Collecting nvidia-cudnn-cu12==9.1.0.70 (from torch->pgmpy)\n",
            "  Downloading nvidia_cudnn_cu12-9.1.0.70-py3-none-manylinux2014_x86_64.whl.metadata (1.6 kB)\n",
            "Collecting nvidia-cublas-cu12==12.4.5.8 (from torch->pgmpy)\n",
            "  Downloading nvidia_cublas_cu12-12.4.5.8-py3-none-manylinux2014_x86_64.whl.metadata (1.5 kB)\n",
            "Collecting nvidia-cufft-cu12==11.2.1.3 (from torch->pgmpy)\n",
            "  Downloading nvidia_cufft_cu12-11.2.1.3-py3-none-manylinux2014_x86_64.whl.metadata (1.5 kB)\n",
            "Collecting nvidia-curand-cu12==10.3.5.147 (from torch->pgmpy)\n",
            "  Downloading nvidia_curand_cu12-10.3.5.147-py3-none-manylinux2014_x86_64.whl.metadata (1.5 kB)\n",
            "Collecting nvidia-cusolver-cu12==11.6.1.9 (from torch->pgmpy)\n",
            "  Downloading nvidia_cusolver_cu12-11.6.1.9-py3-none-manylinux2014_x86_64.whl.metadata (1.6 kB)\n",
            "Collecting nvidia-cusparse-cu12==12.3.1.170 (from torch->pgmpy)\n",
            "  Downloading nvidia_cusparse_cu12-12.3.1.170-py3-none-manylinux2014_x86_64.whl.metadata (1.6 kB)\n",
            "Requirement already satisfied: nvidia-cusparselt-cu12==0.6.2 in /usr/local/lib/python3.11/dist-packages (from torch->pgmpy) (0.6.2)\n",
            "Requirement already satisfied: nvidia-nccl-cu12==2.21.5 in /usr/local/lib/python3.11/dist-packages (from torch->pgmpy) (2.21.5)\n",
            "Requirement already satisfied: nvidia-nvtx-cu12==12.4.127 in /usr/local/lib/python3.11/dist-packages (from torch->pgmpy) (12.4.127)\n",
            "Collecting nvidia-nvjitlink-cu12==12.4.127 (from torch->pgmpy)\n",
            "  Downloading nvidia_nvjitlink_cu12-12.4.127-py3-none-manylinux2014_x86_64.whl.metadata (1.5 kB)\n",
            "Requirement already satisfied: triton==3.2.0 in /usr/local/lib/python3.11/dist-packages (from torch->pgmpy) (3.2.0)\n",
            "Requirement already satisfied: sympy==1.13.1 in /usr/local/lib/python3.11/dist-packages (from torch->pgmpy) (1.13.1)\n",
            "Requirement already satisfied: mpmath<1.4,>=1.1.0 in /usr/local/lib/python3.11/dist-packages (from sympy==1.13.1->torch->pgmpy) (1.3.0)\n",
            "Requirement already satisfied: threadpoolctl>=3.1.0 in /usr/local/lib/python3.11/dist-packages (from scikit-learn->pgmpy) (3.6.0)\n",
            "Requirement already satisfied: patsy>=0.5.6 in /usr/local/lib/python3.11/dist-packages (from statsmodels->pgmpy) (1.0.1)\n",
            "Requirement already satisfied: packaging>=21.3 in /usr/local/lib/python3.11/dist-packages (from statsmodels->pgmpy) (24.2)\n",
            "Requirement already satisfied: six>=1.5 in /usr/local/lib/python3.11/dist-packages (from python-dateutil>=2.8.2->pandas->pgmpy) (1.17.0)\n",
            "Requirement already satisfied: MarkupSafe>=2.0 in /usr/local/lib/python3.11/dist-packages (from jinja2->torch->pgmpy) (3.0.2)\n",
            "Downloading pgmpy-1.0.0-py3-none-any.whl (2.0 MB)\n",
            "\u001b[2K   \u001b[90m━━━━━━━━━━━━━━━━━━━━━━━━━━━━━━━━━━━━━━━━\u001b[0m \u001b[32m2.0/2.0 MB\u001b[0m \u001b[31m43.9 MB/s\u001b[0m eta \u001b[36m0:00:00\u001b[0m\n",
            "\u001b[?25hDownloading pyro_ppl-1.9.1-py3-none-any.whl (755 kB)\n",
            "\u001b[2K   \u001b[90m━━━━━━━━━━━━━━━━━━━━━━━━━━━━━━━━━━━━━━━━\u001b[0m \u001b[32m756.0/756.0 kB\u001b[0m \u001b[31m53.6 MB/s\u001b[0m eta \u001b[36m0:00:00\u001b[0m\n",
            "\u001b[?25hDownloading nvidia_cublas_cu12-12.4.5.8-py3-none-manylinux2014_x86_64.whl (363.4 MB)\n",
            "\u001b[2K   \u001b[90m━━━━━━━━━━━━━━━━━━━━━━━━━━━━━━━━━━━━━━━━\u001b[0m \u001b[32m363.4/363.4 MB\u001b[0m \u001b[31m3.2 MB/s\u001b[0m eta \u001b[36m0:00:00\u001b[0m\n",
            "\u001b[?25hDownloading nvidia_cuda_cupti_cu12-12.4.127-py3-none-manylinux2014_x86_64.whl (13.8 MB)\n",
            "\u001b[2K   \u001b[90m━━━━━━━━━━━━━━━━━━━━━━━━━━━━━━━━━━━━━━━━\u001b[0m \u001b[32m13.8/13.8 MB\u001b[0m \u001b[31m59.7 MB/s\u001b[0m eta \u001b[36m0:00:00\u001b[0m\n",
            "\u001b[?25hDownloading nvidia_cuda_nvrtc_cu12-12.4.127-py3-none-manylinux2014_x86_64.whl (24.6 MB)\n",
            "\u001b[2K   \u001b[90m━━━━━━━━━━━━━━━━━━━━━━━━━━━━━━━━━━━━━━━━\u001b[0m \u001b[32m24.6/24.6 MB\u001b[0m \u001b[31m35.1 MB/s\u001b[0m eta \u001b[36m0:00:00\u001b[0m\n",
            "\u001b[?25hDownloading nvidia_cuda_runtime_cu12-12.4.127-py3-none-manylinux2014_x86_64.whl (883 kB)\n",
            "\u001b[2K   \u001b[90m━━━━━━━━━━━━━━━━━━━━━━━━━━━━━━━━━━━━━━━━\u001b[0m \u001b[32m883.7/883.7 kB\u001b[0m \u001b[31m49.0 MB/s\u001b[0m eta \u001b[36m0:00:00\u001b[0m\n",
            "\u001b[?25hDownloading nvidia_cudnn_cu12-9.1.0.70-py3-none-manylinux2014_x86_64.whl (664.8 MB)\n",
            "\u001b[2K   \u001b[90m━━━━━━━━━━━━━━━━━━━━━━━━━━━━━━━━━━━━━━━━\u001b[0m \u001b[32m664.8/664.8 MB\u001b[0m \u001b[31m1.4 MB/s\u001b[0m eta \u001b[36m0:00:00\u001b[0m\n",
            "\u001b[?25hDownloading nvidia_cufft_cu12-11.2.1.3-py3-none-manylinux2014_x86_64.whl (211.5 MB)\n",
            "\u001b[2K   \u001b[90m━━━━━━━━━━━━━━━━━━━━━━━━━━━━━━━━━━━━━━━━\u001b[0m \u001b[32m211.5/211.5 MB\u001b[0m \u001b[31m5.7 MB/s\u001b[0m eta \u001b[36m0:00:00\u001b[0m\n",
            "\u001b[?25hDownloading nvidia_curand_cu12-10.3.5.147-py3-none-manylinux2014_x86_64.whl (56.3 MB)\n",
            "\u001b[2K   \u001b[90m━━━━━━━━━━━━━━━━━━━━━━━━━━━━━━━━━━━━━━━━\u001b[0m \u001b[32m56.3/56.3 MB\u001b[0m \u001b[31m12.7 MB/s\u001b[0m eta \u001b[36m0:00:00\u001b[0m\n",
            "\u001b[?25hDownloading nvidia_cusolver_cu12-11.6.1.9-py3-none-manylinux2014_x86_64.whl (127.9 MB)\n",
            "\u001b[2K   \u001b[90m━━━━━━━━━━━━━━━━━━━━━━━━━━━━━━━━━━━━━━━━\u001b[0m \u001b[32m127.9/127.9 MB\u001b[0m \u001b[31m7.1 MB/s\u001b[0m eta \u001b[36m0:00:00\u001b[0m\n",
            "\u001b[?25hDownloading nvidia_cusparse_cu12-12.3.1.170-py3-none-manylinux2014_x86_64.whl (207.5 MB)\n",
            "\u001b[2K   \u001b[90m━━━━━━━━━━━━━━━━━━━━━━━━━━━━━━━━━━━━━━━━\u001b[0m \u001b[32m207.5/207.5 MB\u001b[0m \u001b[31m5.6 MB/s\u001b[0m eta \u001b[36m0:00:00\u001b[0m\n",
            "\u001b[?25hDownloading nvidia_nvjitlink_cu12-12.4.127-py3-none-manylinux2014_x86_64.whl (21.1 MB)\n",
            "\u001b[2K   \u001b[90m━━━━━━━━━━━━━━━━━━━━━━━━━━━━━━━━━━━━━━━━\u001b[0m \u001b[32m21.1/21.1 MB\u001b[0m \u001b[31m96.5 MB/s\u001b[0m eta \u001b[36m0:00:00\u001b[0m\n",
            "\u001b[?25hDownloading pyro_api-0.1.2-py3-none-any.whl (11 kB)\n",
            "Installing collected packages: pyro-api, nvidia-nvjitlink-cu12, nvidia-curand-cu12, nvidia-cufft-cu12, nvidia-cuda-runtime-cu12, nvidia-cuda-nvrtc-cu12, nvidia-cuda-cupti-cu12, nvidia-cublas-cu12, nvidia-cusparse-cu12, nvidia-cudnn-cu12, nvidia-cusolver-cu12, pyro-ppl, pgmpy\n",
            "  Attempting uninstall: nvidia-nvjitlink-cu12\n",
            "    Found existing installation: nvidia-nvjitlink-cu12 12.5.82\n",
            "    Uninstalling nvidia-nvjitlink-cu12-12.5.82:\n",
            "      Successfully uninstalled nvidia-nvjitlink-cu12-12.5.82\n",
            "  Attempting uninstall: nvidia-curand-cu12\n",
            "    Found existing installation: nvidia-curand-cu12 10.3.6.82\n",
            "    Uninstalling nvidia-curand-cu12-10.3.6.82:\n",
            "      Successfully uninstalled nvidia-curand-cu12-10.3.6.82\n",
            "  Attempting uninstall: nvidia-cufft-cu12\n",
            "    Found existing installation: nvidia-cufft-cu12 11.2.3.61\n",
            "    Uninstalling nvidia-cufft-cu12-11.2.3.61:\n",
            "      Successfully uninstalled nvidia-cufft-cu12-11.2.3.61\n",
            "  Attempting uninstall: nvidia-cuda-runtime-cu12\n",
            "    Found existing installation: nvidia-cuda-runtime-cu12 12.5.82\n",
            "    Uninstalling nvidia-cuda-runtime-cu12-12.5.82:\n",
            "      Successfully uninstalled nvidia-cuda-runtime-cu12-12.5.82\n",
            "  Attempting uninstall: nvidia-cuda-nvrtc-cu12\n",
            "    Found existing installation: nvidia-cuda-nvrtc-cu12 12.5.82\n",
            "    Uninstalling nvidia-cuda-nvrtc-cu12-12.5.82:\n",
            "      Successfully uninstalled nvidia-cuda-nvrtc-cu12-12.5.82\n",
            "  Attempting uninstall: nvidia-cuda-cupti-cu12\n",
            "    Found existing installation: nvidia-cuda-cupti-cu12 12.5.82\n",
            "    Uninstalling nvidia-cuda-cupti-cu12-12.5.82:\n",
            "      Successfully uninstalled nvidia-cuda-cupti-cu12-12.5.82\n",
            "  Attempting uninstall: nvidia-cublas-cu12\n",
            "    Found existing installation: nvidia-cublas-cu12 12.5.3.2\n",
            "    Uninstalling nvidia-cublas-cu12-12.5.3.2:\n",
            "      Successfully uninstalled nvidia-cublas-cu12-12.5.3.2\n",
            "  Attempting uninstall: nvidia-cusparse-cu12\n",
            "    Found existing installation: nvidia-cusparse-cu12 12.5.1.3\n",
            "    Uninstalling nvidia-cusparse-cu12-12.5.1.3:\n",
            "      Successfully uninstalled nvidia-cusparse-cu12-12.5.1.3\n",
            "  Attempting uninstall: nvidia-cudnn-cu12\n",
            "    Found existing installation: nvidia-cudnn-cu12 9.3.0.75\n",
            "    Uninstalling nvidia-cudnn-cu12-9.3.0.75:\n",
            "      Successfully uninstalled nvidia-cudnn-cu12-9.3.0.75\n",
            "  Attempting uninstall: nvidia-cusolver-cu12\n",
            "    Found existing installation: nvidia-cusolver-cu12 11.6.3.83\n",
            "    Uninstalling nvidia-cusolver-cu12-11.6.3.83:\n",
            "      Successfully uninstalled nvidia-cusolver-cu12-11.6.3.83\n",
            "Successfully installed nvidia-cublas-cu12-12.4.5.8 nvidia-cuda-cupti-cu12-12.4.127 nvidia-cuda-nvrtc-cu12-12.4.127 nvidia-cuda-runtime-cu12-12.4.127 nvidia-cudnn-cu12-9.1.0.70 nvidia-cufft-cu12-11.2.1.3 nvidia-curand-cu12-10.3.5.147 nvidia-cusolver-cu12-11.6.1.9 nvidia-cusparse-cu12-12.3.1.170 nvidia-nvjitlink-cu12-12.4.127 pgmpy-1.0.0 pyro-api-0.1.2 pyro-ppl-1.9.1\n"
          ]
        }
      ]
    },
    {
      "cell_type": "markdown",
      "source": [
        "Bibliotecas como NumPy e SciPy nos ajudam consideravelmente a realizar cálculos, implementar o Teorema de Bayes, e trabalhar com probabilidade estatística. Já a biblioteca pgmpy nos ajuda a implementar as redes bayesianas de forma mais tranquila e direta.\n",
        "\n",
        "No código acima, chamado incerteza.py, começamos fazendo a importação das bibliotecas. Nesse caso, usamos as bibliotecas numpy e scipy, e o pacote pgmpy.\n",
        "\n",
        "Feito isso, o primeiro passo é criar uma rede bayesiana para modelar esse problema. Na sequência, definimos a tabela de probabilidades condicionais, fazendo uma associação entre as variáveis.\n",
        "\n",
        "Neste exemplo, trabalhamos com o caso do e-commerce, em que queremos saber a probabilidade de ela comprar algo e estimar o tempo de navegação dela.\n",
        "\n",
        "A partir do terceiro comentário, adicionamos a tabela de probabilidades condicionais ao modelo de rede bayesiana que criamos. Após validar o modelo, fazemos uma previsão da probabilidade de compra em um dado cenário. Na sequência, exibimos o resultado da probabilidade de comprar ou não com base nas evidências que inserimos no código.\n",
        "\n",
        "Ao final, além de explorarmos as distribuições para modelar a incerteza adicional, estimamos o tempo que a pessoa passa navegando no site."
      ],
      "metadata": {
        "id": "flNtAYCyTblJ"
      }
    },
    {
      "cell_type": "markdown",
      "source": [
        "# Executando o código"
      ],
      "metadata": {
        "id": "tSfkb3AKTqMy"
      }
    },
    {
      "cell_type": "markdown",
      "source": [
        "Vamos executar o código para conferir como ele se comporta? No terminal, executaremos o comando python seguido do nome do arquivo `(incerteza.py)`."
      ],
      "metadata": {
        "id": "vnKxRsZ1TngC"
      }
    },
    {
      "cell_type": "code",
      "source": [
        "import numpy as np\n",
        "from scipy.stats import norm\n",
        "from pgmpy.models import DiscreteBayesianNetwork  # Changed from BayesianNetwork\n",
        "from pgmpy.factors.discrete import TabularCPD\n",
        "from pgmpy.inference import VariableElimination # Import VariableElimination here\n",
        "\n",
        "# 1. Criando uma Rede Bayesiana para modelar o problema\n",
        "# Changed BayesianNetwork to DiscreteBayesianNetwork\n",
        "model = DiscreteBayesianNetwork([\n",
        "    ('HistoricoCompras', 'Compra'),\n",
        "    ('TempoNoSite', 'Compra'),\n",
        "    ('ClicouEmPromocao', 'Compra')\n",
        "])\n",
        "\n",
        "# 2. Definindo as probabilidades condicionais (CPDs)\n",
        "cpd_historico = TabularCPD(variable='HistoricoCompras', variable_card=2, values=[[0.7], [0.3]])\n",
        "cpd_tempo = TabularCPD(variable='TempoNoSite', variable_card=2, values=[[0.6], [0.4]])\n",
        "cpd_promocao = TabularCPD(variable='ClicouEmPromocao', variable_card=2, values=[[0.8], [0.2]])\n",
        "\n",
        "# Compra é influenciada pelas outras variáveis\n",
        "cpd_compra = TabularCPD(\n",
        "    variable='Compra',\n",
        "    variable_card=2,\n",
        "    values=[\n",
        "        [0.9, 0.7, 0.8, 0.4, 0.6, 0.2, 0.3, 0.1],  # Probabilidade de não comprar\n",
        "        [0.1, 0.3, 0.2, 0.6, 0.4, 0.8, 0.7, 0.9]   # Probabilidade de comprar\n",
        "    ],\n",
        "    evidence=['HistoricoCompras', 'TempoNoSite', 'ClicouEmPromocao'],\n",
        "    evidence_card=[2, 2, 2]\n",
        ")\n",
        "\n",
        "# 3. Adicionando os CPDs ao modelo\n",
        "model.add_cpds(cpd_historico, cpd_tempo, cpd_promocao, cpd_compra)\n",
        "\n",
        "# 4. Validando o modelo\n",
        "assert model.check_model()\n",
        "\n",
        "# 5. Prevendo a probabilidade de compra dado um cenário\n",
        "# from pgmpy.inference import VariableElimination # Moved import to the top\n",
        "\n",
        "inference = VariableElimination(model)\n",
        "result = inference.query(variables=['Compra'], evidence={\n",
        "    'HistoricoCompras': 1,  # O cliente tem histórico de compras\n",
        "    'TempoNoSite': 0,       # O cliente passou pouco tempo no site\n",
        "    'ClicouEmPromocao': 1   # O cliente clicou em uma promoção\n",
        "})\n",
        "\n",
        "print(\"Probabilidades de Compra:\")\n",
        "print(result) # Resultado da probabilidade de comprar ou não comprar com base nas evidências\n",
        "\n",
        "# 6. Explorando distribuições para modelar incerteza adicional\n",
        "# Exemplo: tempo no site segue uma distribuição normal\n",
        "media_tempo = 5  # minutos\n",
        "desvio_padrao_tempo = 2\n",
        "tempo_observado = 6\n",
        "prob_tempo = norm.cdf(tempo_observado, loc=media_tempo, scale=desvio_padrao_tempo)\n",
        "\n",
        "print(f\"Probabilidade de o cliente passar menos de {tempo_observado} minutos no site: {prob_tempo:.2f}\")"
      ],
      "metadata": {
        "colab": {
          "base_uri": "https://localhost:8080/"
        },
        "id": "VYZnhyt4TOcg",
        "outputId": "a74f37ca-3aa3-46cc-867e-fc6f4058a0cc"
      },
      "execution_count": null,
      "outputs": [
        {
          "output_type": "stream",
          "name": "stdout",
          "text": [
            "Probabilidades de Compra:\n",
            "+-----------+---------------+\n",
            "| Compra    |   phi(Compra) |\n",
            "+===========+===============+\n",
            "| Compra(0) |        0.2000 |\n",
            "+-----------+---------------+\n",
            "| Compra(1) |        0.8000 |\n",
            "+-----------+---------------+\n",
            "Probabilidade de o cliente passar menos de 6 minutos no site: 0.69\n"
          ]
        }
      ]
    },
    {
      "cell_type": "markdown",
      "source": [
        "Como retorno, foram exibidas as probabilidades de Compra(0) e Compra(1) em uma tabela indicando as probabilidades, e informando em texto abaixo que a probabilidade da pessoa cliente passar seis minutos no site é de 0.69, ou seja, 69%."
      ],
      "metadata": {
        "id": "EC7XAMlJThp5"
      }
    },
    {
      "cell_type": "markdown",
      "source": [
        "Probabilidades de Compra:"
      ],
      "metadata": {
        "id": "0BaN4De_T1XQ"
      }
    },
    {
      "cell_type": "markdown",
      "source": [
        "![image.png](data:image/png;base64,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)"
      ],
      "metadata": {
        "id": "7vhbhkn7UIqh"
      }
    },
    {
      "cell_type": "markdown",
      "source": [
        "Probabilidade de o cliente passar menos de 6 minutos no site: 0.69"
      ],
      "metadata": {
        "id": "CEaxJSYiUNtb"
      }
    },
    {
      "cell_type": "markdown",
      "source": [
        "# Conclusão"
      ],
      "metadata": {
        "id": "RcF3j_HyUR-F"
      }
    },
    {
      "cell_type": "markdown",
      "source": [
        "Utilizando o Python e algumas bibliotecas, conseguimos trabalhar com redes bayesianas para nos auxiliarem na implementação de agentes que usem o raciocínio probabilístico.\n",
        "\n",
        "Na sequência, vamos explorar um pouco mais como lidamos com variáveis aleatórias que variam com o tempo. Nos encontramos no próximo vídeo!"
      ],
      "metadata": {
        "id": "d1QnKVtAUVqS"
      }
    }
  ]
}