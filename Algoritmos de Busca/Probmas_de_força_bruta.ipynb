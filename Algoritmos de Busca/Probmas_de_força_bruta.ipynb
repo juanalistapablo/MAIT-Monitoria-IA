{
  "nbformat": 4,
  "nbformat_minor": 0,
  "metadata": {
    "colab": {
      "provenance": [],
      "collapsed_sections": [
        "SasYByWNbCYx",
        "Rp-ObHHEbHSQ",
        "4gAjCm0gbr0Y",
        "g7SiUl_490f_",
        "635ETS4Pbx0n",
        "k2SGQgRDb6GD",
        "K19h6gUS0q9_",
        "P7TGwB050wka",
        "uVeumEaL00B4",
        "3QobIwkX05CJ",
        "Ofc_uYgq1Pdb",
        "2ZHpuLDt1VQ8",
        "hEHcIaVD1lm9"
      ],
      "include_colab_link": true
    },
    "kernelspec": {
      "name": "python3",
      "display_name": "Python 3"
    },
    "language_info": {
      "name": "python"
    }
  },
  "cells": [
    {
      "cell_type": "markdown",
      "metadata": {
        "id": "view-in-github",
        "colab_type": "text"
      },
      "source": [
        "<a href=\"https://colab.research.google.com/github/juanalistapablo/MAIT-Monitoria-IA/blob/main/Problemas_de_for%C3%A7a_bruta.ipynb\" target=\"_parent\"><img src=\"https://colab.research.google.com/assets/colab-badge.svg\" alt=\"Open In Colab\"/></a>"
      ]
    },
    {
      "cell_type": "markdown",
      "source": [
        "# 1 - Introdução ao problema e força bruta"
      ],
      "metadata": {
        "id": "QnWzjmM-a6Mw"
      }
    },
    {
      "cell_type": "markdown",
      "source": [
        "## 1.2 - O Problema das Entregas: Origem, Endereços e Destino"
      ],
      "metadata": {
        "id": "SasYByWNbCYx"
      }
    },
    {
      "cell_type": "markdown",
      "source": [
        " 📐 Distância Euclidiana – Definição Formal\n",
        "\n",
        "A **distância euclidiana** entre dois pontos \\( A \\) e \\( B \\) no espaço \\( \\mathbb{R}^n \\) é formalmente definida como:\n",
        "$$\n",
        "d(A, B) = \\sqrt{\\sum_{i=1}^n (b_i - a_i)^2}\n",
        "$$\n",
        "onde:  \n",
        "$$\n",
        " A = (a_1, a_2, \\ldots, a_n)   \n",
        " B = (b_1, b_2, \\ldots, b_n)\n",
        "$$\n",
        "\n",
        "Essa fórmula representa a raiz quadrada da soma dos quadrados das diferenças coordenadas entre os dois pontos — uma extensão direta do Teorema de Pitágoras para qualquer dimensão.\n"
      ],
      "metadata": {
        "id": "oArWwimGd2IY"
      }
    },
    {
      "cell_type": "markdown",
      "source": [
        "📍 Caso específico no plano 2D – Distância Euclidiana\n",
        "\n",
        "Sejam dois pontos no plano:\n",
        "\n",
        "$$\n",
        "A = (x_1, y_1), \\quad B = (x_2, y_2)\n",
        "$$\n",
        "\n",
        "A **distância euclidiana** entre eles é dada por:\n",
        "\n",
        "$$\n",
        "d(A, B) = \\sqrt{(x_2 - x_1)^2 + (y_2 - y_1)^2}\n",
        "$$\n",
        "\n",
        "Essa fórmula é a aplicação direta do Teorema de Pitágoras, considerando que a distância entre dois pontos no plano forma a hipotenusa de um triângulo retângulo cujos catetos são as diferenças nas coordenadas \\( x \\) e \\( y \\).\n"
      ],
      "metadata": {
        "id": "mHM3y-Zcggg_"
      }
    },
    {
      "cell_type": "markdown",
      "source": [
        "Imagine uma empresa inovadora, enfrentando o desafio cotidiano de realizar entregas eficientes em uma cidade cheia de dinamismo. A companhia busca incessantemente formas de otimizar suas rotas de entrega para oferecer um serviço rápido e de qualidade, enquanto mantém os custos operacionais sob controle.\n",
        "\n",
        "**Definindo a Origem: O Ponto de Partida**\n",
        "\n",
        "Tudo começa na **origem**, o centro de distribuição. É deste ponto que os veículos de entrega saem carregados, prontos para distribuir os produtos aos clientes. A origem é representada de maneira simples e objetiva: uma tupla contendo dois elementos, a latitude e a longitude:\n",
        "\n",
        "```python\n",
        "origem = (x_origem, y_origem)\n",
        "```\n",
        "\n",
        "Esta coordenada geográfica funciona como o ponto inicial de todas as rotas de entrega planejadas para o dia.\n",
        "\n",
        "**Estabelecendo o Destino: O Ponto de Chegada**\n",
        "\n",
        "Cada rota precisa ter um ponto final, o **destino**. Este pode ser o próprio centro de distribuição, marcando o retorno dos veículos, ou pode ser um outro local estratégico, como um segundo centro de distribuição ou uma oficina para manutenção dos veículos. Da mesma forma que a origem, o destino é definido por uma tupla de latitude e longitude:\n",
        "\n",
        "```python\n",
        "destino = (x_destino, y_destino)\n",
        "```\n",
        "\n",
        "**Listando os Endereços: Os Pontos Intermediários**\n",
        "\n",
        "Entre a origem e o destino, temos os **endereços de entrega**, os pontos que os veículos devem visitar para realizar as entregas. Cada endereço é um ponto no espaço, representado igualmente por uma tupla de coordenadas geográficas, formando uma lista:\n",
        "\n",
        "```python\n",
        "enderecos = [(x1, y1), (x2, y2), ..., (xn, yn)]\n",
        "```\n",
        "\n",
        "Estes são os pontos de parada obrigatória na rota, e o desafio é conectá-los da maneira mais eficiente possível."
      ],
      "metadata": {
        "id": "ylPCBlswiQN7"
      }
    },
    {
      "cell_type": "code",
      "execution_count": null,
      "metadata": {
        "id": "VdT-b9N63ew6"
      },
      "outputs": [],
      "source": [
        "origem = (0,0)\n",
        "destino = (4,4)\n",
        "\n",
        "enderecos = [(2, 1), (2,2), (8, 3), (5, 3)]"
      ]
    },
    {
      "cell_type": "markdown",
      "source": [
        "**Definindo uma Rota Básica: Conexão Direta entre Pontos**\n",
        "\n",
        "Antes de embarcarmos na otimização das rotas, é essencial entender como uma rota básica pode ser representada e estruturada. Uma maneira simples e intuitiva de iniciar é conectando diretamente a **origem** aos **endereços de entrega** e, finalmente, ao **destino**. Este processo gerará uma lista ordenada de pontos que delineiam um caminho a ser seguido.\n",
        "\n",
        "**Estrutura de uma Rota**\n",
        "\n",
        "Uma rota, neste contexto, é uma lista de tuplas, onde cada tupla representa as coordenadas cartesianas \\( (x, y) \\) de um ponto específico na rota. Esta lista é ordenada: começa com a origem, passa por todos os endereços de entrega, e culmina no destino. Uma representação simplificada da rota seria:\n",
        "\n",
        "```python\n",
        "rota = [origem, (x1, y1), (x2, y2), ..., (xn, yn), destino]\n",
        "```\n",
        "\n",
        "**Construindo Uma Rota Inicial**\n",
        "\n",
        "Agora que compreendemos a estrutura básica de uma rota, podemos começar a construir a nossa rota inicial. Este processo é bastante direto, principalmente porque Python facilita a concatenação de listas.\n",
        "\n",
        "**Criação Simplificada de uma Rota**\n",
        "\n",
        "A rota inicial pode ser criada através da concatenação de três listas:\n",
        "\n",
        "1. Uma lista contendo apenas a origem.\n",
        "2. A lista de endereços de entrega.\n",
        "3. Uma lista contendo apenas o destino.\n",
        "\n",
        "Com este método, podemos facilmente construir a rota completa, do ponto de origem até o ponto de destino, passando por todos os endereços onde as entregas devem ser realizadas.\n",
        "\n",
        "O código abaixo ilustra este processo de forma simplificada:\n",
        "\n",
        "```python\n",
        "rota = [origem] + enderecos + [destino]\n",
        "```"
      ],
      "metadata": {
        "id": "JsRJok4fj92l"
      }
    },
    {
      "cell_type": "code",
      "source": [
        "rota = [origem] + enderecos + [destino]"
      ],
      "metadata": {
        "id": "IGyrONwJ9lrN"
      },
      "execution_count": null,
      "outputs": []
    },
    {
      "cell_type": "code",
      "source": [
        "rota"
      ],
      "metadata": {
        "colab": {
          "base_uri": "https://localhost:8080/"
        },
        "id": "agMVZkwf9x0R",
        "outputId": "7487a21b-ea70-4e0d-90ca-00b7408d90c5"
      },
      "execution_count": null,
      "outputs": [
        {
          "output_type": "execute_result",
          "data": {
            "text/plain": [
              "[(0, 0), (2, 1), (2, 2), (8, 3), (5, 3), (4, 4)]"
            ]
          },
          "metadata": {},
          "execution_count": 20
        }
      ]
    },
    {
      "cell_type": "markdown",
      "source": [
        "Para visualizar efetivamente as rotas geradas e facilitar o processo de análise e otimização, utilizaremos a biblioteca `matplotlib.pyplot`. Este pacote gráfico em Python é extremamente eficaz para produzir gráficos estáticos, interativos e animados de alta qualidade em uma sintaxe simples e fácil de entender.\n",
        "\n",
        "No Google Colab, a biblioteca `matplotlib` já vem pré-instalada, então você pode pular o passo de instalação e ir diretamente para a importação da biblioteca.\n",
        "\n",
        "```python\n",
        "import matplotlib.pyplot as plt\n",
        "```\n",
        "\n",
        "Agora, considerando que você já temos uma `rota` definida (uma lista de tuplas, onde cada tupla representa as coordenadas cartesianas de um ponto na rota), o plot da rota pode ser feito da seguinte forma:"
      ],
      "metadata": {
        "id": "mIfp5sOaj-YM"
      }
    },
    {
      "cell_type": "markdown",
      "source": [
        "https://matplotlib.org/stable/api/_as_gen/matplotlib.pyplot.arrow.html"
      ],
      "metadata": {
        "id": "qawnOVr_O3tW"
      }
    },
    {
      "cell_type": "code",
      "source": [
        "import matplotlib.pyplot as plt"
      ],
      "metadata": {
        "id": "V38Z0eBQ91Jz"
      },
      "execution_count": null,
      "outputs": []
    },
    {
      "cell_type": "code",
      "source": [
        "from scipy.spatial.distance import euclidean as distancia_euclidiana"
      ],
      "metadata": {
        "id": "LnmkH5tL9-8v"
      },
      "execution_count": null,
      "outputs": []
    },
    {
      "cell_type": "code",
      "source": [
        "# Definindo o tamanho da rota para facilitar a iteração posterior\n",
        "tamanho_rota = len(rota)\n",
        "# Inicializando a variável que armazenará a distância total percorrida na rota\n",
        "distancia_percorrida = 0\n",
        "\n",
        "# Iterando sobre cada ponto na rota\n",
        "for i in range(tamanho_rota):\n",
        "  # Coordenadas do ponto atual na iteração\n",
        "  x, y = rota[i]\n",
        "  # Definindo a cor padrão dos pontos como preta\n",
        "  cor = \"black\"\n",
        "  # Se o ponto atual é o ponto de origem, sua cor será azul\n",
        "  if i == 0:\n",
        "    cor = \"blue\"\n",
        "  # Se o ponto atual é o ponto de destino, sua cor será vermelha\n",
        "  elif i == tamanho_rota - 1:\n",
        "    cor = \"red\"\n",
        "\n",
        "  # Plotando o ponto atual com a cor definida\n",
        "  plt.scatter(x, y, color=cor)\n",
        "  plt.annotate(f\"({x}, {y})\", (x, y))\n",
        "  # Se o ponto atual não é o último, desenhamos uma seta até o próximo ponto\n",
        "  if i < tamanho_rota - 1:\n",
        "    # Coordenadas do próximo ponto na rota\n",
        "    x1, y1 = rota[i+1]\n",
        "    # Calculando a diferença nas coordenadas para determinar o tamanho e direção da seta\n",
        "    dx = x1 - x\n",
        "    dy = y1 - y\n",
        "    # Desenhando uma seta do ponto atual para o próximo ponto\n",
        "    plt.arrow(x, y, dx, dy, color=\"black\", head_width=0.1)\n",
        "    # Atualizando a distância total percorrida com a distância até o próximo ponto\n",
        "    distancia_percorrida = distancia_percorrida + distancia_euclidiana(rota[i], rota[i+1])\n",
        "\n",
        "# Adicionando um título ao gráfico, incluindo a distância total percorrida na rota\n",
        "plt.title(f\"Rota com distancia de {round(distancia_percorrida, 2)}\")\n",
        "# Mostrando o gráfico\n",
        "plt.show()\n"
      ],
      "metadata": {
        "colab": {
          "base_uri": "https://localhost:8080/",
          "height": 452
        },
        "id": "U4s9qnNE-MlB",
        "outputId": "d64d7698-737e-4658-e244-b50bfe117884"
      },
      "execution_count": null,
      "outputs": [
        {
          "output_type": "display_data",
          "data": {
            "text/plain": [
              "<Figure size 640x480 with 1 Axes>"
            ],
            "image/png": "[encoded data removed]"
          },
          "metadata": {}
        }
      ]
    },
    {
      "cell_type": "markdown",
      "source": [
        "**Interpretação do Gráfico:**\n",
        "\n",
        "1. **Pontos no Gráfico:**\n",
        "   - Cada ponto (ou nó) no gráfico representa uma localização no espaço 2D, que pode ser um endereço de entrega, a origem (depósito inicial), ou o destino final (outro centro de distribuição ou oficina, por exemplo).\n",
        "   - A origem é representada pelo ponto azul, e o destino pelo ponto vermelho. Os endereços de entrega intermediários são representados por pontos pretos.\n",
        "\n",
        "2. **Setas Entre os Pontos:**\n",
        "   - As setas conectam os pontos consecutivamente, indicando a sequência de entregas.\n",
        "   - A direção das setas mostra o caminho que o veículo de entrega deve seguir, partindo da origem, passando pelos pontos de entrega, e finalmente chegando ao destino.\n",
        "\n",
        "3. **Distância Percorrida:**\n",
        "   - O título do gráfico apresenta a distância total percorrida nesta rota específica.\n",
        "   - A distância entre cada par de pontos consecutivos é calculada usando a função `distancia_euclidiana`. Essa função calcula a distância euclidiana padrão entre dois pontos no plano cartesiano.\n",
        "   - A `distancia_percorrida` é acumulada durante o loop, somando a distância entre cada par de pontos consecutivos na rota.\n",
        "\n",
        "**Como Ler o Gráfico:**\n",
        "\n",
        "- **Início e Fim da Rota:**\n",
        "  - Olhe para os pontos azul e vermelho para identificar onde a rota começa e termina, respectivamente.\n",
        "\n",
        "- **Sequência de Entregas:**\n",
        "  - Siga as setas a partir do ponto azul para visualizar a ordem e o caminho das entregas até chegar ao ponto vermelho.\n",
        "\n",
        "- **Distância Total:**\n",
        "  - Verifique o título do gráfico para saber a distância total percorrida nessa rota.\n",
        "\n",
        " **Análise Adicional:**\n",
        "- Este gráfico é especialmente útil para visualizar e comparar diferentes rotas propostas pelo seu algoritmo de otimização.\n",
        "- A análise visual pode nos ajudar a identificar rapidamente rotas ineficientes ou pontos de entrega que estão significativamente fora do caminho ideal.\n",
        "\n",
        "Por fim, podemos transformar esse código em uma função para reutilizarmos posteriormente."
      ],
      "metadata": {
        "id": "1mR2DfRvmIR3"
      }
    },
    {
      "cell_type": "code",
      "source": [
        "def desenhar_rota(rota):\n",
        "  tamanho_rota = len(rota)\n",
        "  distancia_percorrida = 0\n",
        "\n",
        "  for i in range(tamanho_rota):\n",
        "    x,y = rota[i]\n",
        "\n",
        "    cor = \"black\"\n",
        "    if i == 0:\n",
        "      cor = \"blue\"\n",
        "    elif i == tamanho_rota - 1:\n",
        "      cor = \"red\"\n",
        "\n",
        "    plt.scatter(x, y, color=cor)\n",
        "    plt.annotate(f\"({x}, {y})\", (x, y))\n",
        "    if i < tamanho_rota - 1:\n",
        "      x1, y1 = rota[i+1]\n",
        "      dx = x1 - x\n",
        "      dy = y1 - y\n",
        "      plt.arrow(x, y, dx, dy, color=\"black\", head_width = 0.1)\n",
        "      distancia_percorrida = distancia_percorrida + distancia_euclidiana(rota[i], rota[i+1])\n",
        "\n",
        "  plt.title(f'Rota com distancia de {round(distancia_percorrida, 2)}')\n",
        "  plt.show()"
      ],
      "metadata": {
        "id": "Lvm2vtEU-cwC"
      },
      "execution_count": null,
      "outputs": []
    },
    {
      "cell_type": "code",
      "source": [
        "origem = (0,0)\n",
        "destino = (4,4)\n",
        "\n",
        "enderecos = [(2,2), (2, 1), (5, 3), (8, 3)]\n",
        "\n",
        "rota = [origem] + enderecos + [destino]\n",
        "desenhar_rota(rota)"
      ],
      "metadata": {
        "colab": {
          "base_uri": "https://localhost:8080/",
          "height": 452
        },
        "id": "GEsDqOXt5V8L",
        "outputId": "681055f8-af65-4a62-9494-e1330fb3c66d"
      },
      "execution_count": null,
      "outputs": [
        {
          "output_type": "display_data",
          "data": {
            "text/plain": [
              "<Figure size 640x480 with 1 Axes>"
            ],
            "image/png": "[encoded data removed]"
          },
          "metadata": {}
        }
      ]
    },
    {
      "cell_type": "markdown",
      "source": [
        "## 1.3 - Resolução via Força Bruta\n"
      ],
      "metadata": {
        "id": "Rp-ObHHEbHSQ"
      }
    },
    {
      "cell_type": "markdown",
      "source": [
        "O método de **Força Bruta** é uma abordagem direta e exaustiva para resolver o problema de otimização da rota de entrega. Este método não faz suposições, não elimina alternativas e, de fato, examina todas as possíveis combinações de rotas para encontrar a mais eficiente.\n"
      ],
      "metadata": {
        "id": "PIKQxWM2nifD"
      }
    },
    {
      "cell_type": "code",
      "source": [
        "from itertools import permutations"
      ],
      "metadata": {
        "id": "97EimWc55W0O"
      },
      "execution_count": null,
      "outputs": []
    },
    {
      "cell_type": "code",
      "source": [
        "def calcular_distancia_rota(rota):\n",
        "    \"\"\"\n",
        "    Esta função calcula a distância total de uma rota, somando as distâncias\n",
        "    euclidianas entre pontos consecutivos da rota fornecida.\n",
        "\n",
        "    Parameters:\n",
        "    rota (list): Uma lista de pontos (tuplas) onde cada ponto representa uma posição no espaço.\n",
        "\n",
        "    Returns:\n",
        "    float: A distância total percorrida na rota.\n",
        "    \"\"\"\n",
        "\n",
        "    distancia = 0  # Inicializa a variável que armazenará a distância total.\n",
        "    tamanho_rota = len(rota)  # Armazena o número total de pontos na rota.\n",
        "\n",
        "    # Itera sobre cada ponto na rota.\n",
        "    for i in range(tamanho_rota):\n",
        "        # Verifica se o ponto atual não é o último na rota.\n",
        "        if i < tamanho_rota - 1:\n",
        "            # Calcula e acumula a distância euclidiana entre o ponto atual e o próximo.\n",
        "            distancia = distancia + distancia_euclidiana(rota[i], rota[i+1])\n",
        "\n",
        "    return distancia  # Retorna a distância total calculada.\n"
      ],
      "metadata": {
        "id": "Tl1a4rTh5Xax"
      },
      "execution_count": null,
      "outputs": []
    },
    {
      "cell_type": "markdown",
      "source": [
        "\n",
        "**Funcionamento do Método:**\n",
        "O método de Força Bruta cria todas as permutações possíveis dos endereços de entrega (excluindo origem e destino), criando assim todas as rotas possíveis. Para cada rota gerada, podemos calcular a distância total usando uma função `calcular_distancia_rota` e mantém um registro da rota que tem a menor distância total. A função `calcular_distancia_rota` é uma função que retorna a soma das distâncias entre todos os pontos consecutivos na rota.\n",
        "\n",
        "**Implementação com Permutations:**\n",
        "Na implementação usando o `permutations` do módulo `itertools`, cada permutação dos endereços é considerada uma rota possível. Para cada permutação, a origem é adicionada no início, e o destino é adicionado no final da lista de endereços permutados. Então, a distância total da rota é calculada, e a rota é comparada com a rota conhecida de menor distância. Se a rota recém-calculada tem uma distância menor, ela se torna a nova rota de menor distância."
      ],
      "metadata": {
        "id": "I0T8NJCSn1Av"
      }
    },
    {
      "cell_type": "code",
      "source": [
        "# calculando todas as combinaçoes de rotas\n",
        "for permutacao in permutations(enderecos):\n",
        "  rota =  [origem] + list(permutacao) + [destino]\n",
        "  print(rota)"
      ],
      "metadata": {
        "colab": {
          "base_uri": "https://localhost:8080/"
        },
        "id": "5L9kjtg7PaXp",
        "outputId": "31f82887-607d-43d0-c336-3cea804feb1e"
      },
      "execution_count": null,
      "outputs": [
        {
          "output_type": "stream",
          "name": "stdout",
          "text": [
            "[(0, 0), (2, 2), (2, 1), (5, 3), (8, 3), (4, 4)]\n",
            "[(0, 0), (2, 2), (2, 1), (8, 3), (5, 3), (4, 4)]\n",
            "[(0, 0), (2, 2), (5, 3), (2, 1), (8, 3), (4, 4)]\n",
            "[(0, 0), (2, 2), (5, 3), (8, 3), (2, 1), (4, 4)]\n",
            "[(0, 0), (2, 2), (8, 3), (2, 1), (5, 3), (4, 4)]\n",
            "[(0, 0), (2, 2), (8, 3), (5, 3), (2, 1), (4, 4)]\n",
            "[(0, 0), (2, 1), (2, 2), (5, 3), (8, 3), (4, 4)]\n",
            "[(0, 0), (2, 1), (2, 2), (8, 3), (5, 3), (4, 4)]\n",
            "[(0, 0), (2, 1), (5, 3), (2, 2), (8, 3), (4, 4)]\n",
            "[(0, 0), (2, 1), (5, 3), (8, 3), (2, 2), (4, 4)]\n",
            "[(0, 0), (2, 1), (8, 3), (2, 2), (5, 3), (4, 4)]\n",
            "[(0, 0), (2, 1), (8, 3), (5, 3), (2, 2), (4, 4)]\n",
            "[(0, 0), (5, 3), (2, 2), (2, 1), (8, 3), (4, 4)]\n",
            "[(0, 0), (5, 3), (2, 2), (8, 3), (2, 1), (4, 4)]\n",
            "[(0, 0), (5, 3), (2, 1), (2, 2), (8, 3), (4, 4)]\n",
            "[(0, 0), (5, 3), (2, 1), (8, 3), (2, 2), (4, 4)]\n",
            "[(0, 0), (5, 3), (8, 3), (2, 2), (2, 1), (4, 4)]\n",
            "[(0, 0), (5, 3), (8, 3), (2, 1), (2, 2), (4, 4)]\n",
            "[(0, 0), (8, 3), (2, 2), (2, 1), (5, 3), (4, 4)]\n",
            "[(0, 0), (8, 3), (2, 2), (5, 3), (2, 1), (4, 4)]\n",
            "[(0, 0), (8, 3), (2, 1), (2, 2), (5, 3), (4, 4)]\n",
            "[(0, 0), (8, 3), (2, 1), (5, 3), (2, 2), (4, 4)]\n",
            "[(0, 0), (8, 3), (5, 3), (2, 2), (2, 1), (4, 4)]\n",
            "[(0, 0), (8, 3), (5, 3), (2, 1), (2, 2), (4, 4)]\n"
          ]
        }
      ]
    },
    {
      "cell_type": "code",
      "source": [
        "# rotas + distancia\n",
        "for permutacao in permutations(enderecos):\n",
        "  rota =  [origem] + list(permutacao) + [destino]\n",
        "  print(rota, calcular_distancia_rota(rota)) #"
      ],
      "metadata": {
        "colab": {
          "base_uri": "https://localhost:8080/"
        },
        "id": "wqxK5FKZPlID",
        "outputId": "16f4851b-78ad-4ba0-9775-559ad26c9850"
      },
      "execution_count": null,
      "outputs": [
        {
          "output_type": "stream",
          "name": "stdout",
          "text": [
            "[(0, 0), (2, 2), (2, 1), (5, 3), (8, 3), (4, 4)] 14.557084025827841\n",
            "[(0, 0), (2, 2), (2, 1), (8, 3), (5, 3), (4, 4)] 14.567196007456046\n",
            "[(0, 0), (2, 2), (5, 3), (2, 1), (8, 3), (4, 4)] 20.04391700633298\n",
            "[(0, 0), (2, 2), (5, 3), (8, 3), (2, 1), (4, 4)] 18.920811380715318\n",
            "[(0, 0), (2, 2), (8, 3), (2, 1), (5, 3), (4, 4)] 20.255509813218254\n",
            "[(0, 0), (2, 2), (8, 3), (5, 3), (2, 1), (4, 4)] 19.12229220597239\n",
            "[(0, 0), (2, 1), (2, 2), (5, 3), (8, 3), (4, 4)] 13.52145126328583\n",
            "[(0, 0), (2, 1), (2, 2), (8, 3), (5, 3), (4, 4)] 13.733044070171104\n",
            "[(0, 0), (2, 1), (5, 3), (2, 2), (8, 3), (4, 4)] 19.20976506904804\n",
            "[(0, 0), (2, 1), (5, 3), (8, 3), (2, 2), (4, 4)] 17.75280890800819\n",
            "[(0, 0), (2, 1), (8, 3), (2, 2), (5, 3), (4, 4)] 19.219877050676242\n",
            "[(0, 0), (2, 1), (8, 3), (5, 3), (2, 2), (4, 4)] 17.55132808275112\n",
            "[(0, 0), (5, 3), (2, 2), (2, 1), (8, 3), (4, 4)] 20.440890500968102\n",
            "[(0, 0), (5, 3), (2, 2), (8, 3), (2, 1), (4, 4)] 25.006098681112647\n",
            "[(0, 0), (5, 3), (2, 1), (2, 2), (8, 3), (4, 4)] 20.64237132622517\n",
            "[(0, 0), (5, 3), (2, 1), (8, 3), (2, 2), (4, 4)] 24.67224814569046\n",
            "[(0, 0), (5, 3), (8, 3), (2, 2), (2, 1), (4, 4)] 19.51926570060751\n",
            "[(0, 0), (5, 3), (8, 3), (2, 1), (2, 2), (4, 4)] 18.98393433992825\n",
            "[(0, 0), (8, 3), (2, 2), (2, 1), (5, 3), (4, 4)] 20.646531113452834\n",
            "[(0, 0), (8, 3), (2, 2), (5, 3), (2, 1), (4, 4)] 25.000146486712104\n",
            "[(0, 0), (8, 3), (2, 1), (2, 2), (5, 3), (4, 4)] 20.445050288195763\n",
            "[(0, 0), (8, 3), (2, 1), (5, 3), (2, 2), (4, 4)] 24.464815126032846\n",
            "[(0, 0), (8, 3), (5, 3), (2, 2), (2, 1), (4, 4)] 19.311832680949898\n",
            "[(0, 0), (8, 3), (5, 3), (2, 1), (2, 2), (4, 4)] 18.97798214552771\n"
          ]
        }
      ]
    },
    {
      "cell_type": "code",
      "source": [
        "# Definindo as variáveis para armazenar a menor distância e a rota correspondente\n",
        "menor_distancia = float('inf')  # Inicializando a menor distância com infinito\n",
        "menor_rota = None  # Inicializando a variável que armazenará a rota correspondente à menor distância\n",
        "\n",
        "# Iterando sobre todas as permutações possíveis dos endereços\n",
        "for permutacao in permutations(enderecos):\n",
        "    # Construindo a rota atual adicionando o ponto de origem no início,\n",
        "    # o ponto de destino no final, e a permutação atual dos endereços no meio\n",
        "    rota = [origem] + list(permutacao) + [destino]\n",
        "\n",
        "    # Calculando a distância total da rota atual usando a função definida anteriormente\n",
        "    distancia_rota = calcular_distancia_rota(rota)\n",
        "\n",
        "    # Verificando se a distância total da rota atual é menor que a menor distância registrada até agora\n",
        "    if distancia_rota < menor_distancia:\n",
        "        # Atualizando a menor distância e a rota correspondente\n",
        "        menor_distancia = distancia_rota\n",
        "        menor_rota = rota\n",
        "\n",
        "# Imprimindo a menor rota e sua distância correspondente\n",
        "print(menor_rota, menor_distancia)\n",
        "\n",
        "# Desenhando a rota no espaço, usando uma função 'desenhar_rota()' que deve estar definida em algum lugar no seu código\n",
        "desenhar_rota(menor_rota)\n"
      ],
      "metadata": {
        "colab": {
          "base_uri": "https://localhost:8080/",
          "height": 470
        },
        "id": "XH4fRDZO5YIu",
        "outputId": "b06bf666-c814-45e5-d440-7a6d5156411c"
      },
      "execution_count": null,
      "outputs": [
        {
          "output_type": "stream",
          "name": "stdout",
          "text": [
            "[(0, 0), (2, 1), (2, 2), (5, 3), (8, 3), (4, 4)] 13.52145126328583\n"
          ]
        },
        {
          "output_type": "display_data",
          "data": {
            "text/plain": [
              "<Figure size 640x480 with 1 Axes>"
            ],
            "image/png": "[encoded data removed]"
          },
          "metadata": {}
        }
      ]
    },
    {
      "cell_type": "markdown",
      "source": [
        "##  1.4 - Análise de Eficiência da Força Bruta\n"
      ],
      "metadata": {
        "id": "4gAjCm0gbr0Y"
      }
    },
    {
      "cell_type": "markdown",
      "source": [
        "Podemos definir uma função para reutilizar posteriormente caso necessário."
      ],
      "metadata": {
        "id": "-db_9r6Zn9Rk"
      }
    },
    {
      "cell_type": "code",
      "source": [
        "def forca_bruta(origem, destino, enderecos):\n",
        "    # Inicializa a variável que vai armazenar a menor distância encontrada\n",
        "    # com infinito, pois qualquer distância calculada será menor que infinito.\n",
        "    menor_distancia = float('inf')\n",
        "\n",
        "    # Inicializa a variável que vai armazenar a rota correspondente à menor distância\n",
        "    # com None, pois ainda não encontramos nenhuma rota.\n",
        "    menor_rota = None\n",
        "\n",
        "    # Itera sobre todas as permutações possíveis dos endereços.\n",
        "    # permutations(enderecos) retorna todas as possíveis ordenações dos endereços,\n",
        "    # ou seja, todas as rotas possíveis (sem considerar origem e destino).\n",
        "    for permutacao in permutations(enderecos):\n",
        "        # Cria uma rota completa adicionando a origem no início da permutação\n",
        "        # dos endereços e o destino no final.\n",
        "        rota = [origem] + list(permutacao) + [destino]\n",
        "\n",
        "        # Calcula a distância total da rota usando a função calcular_distancia_rota\n",
        "        distancia_rota = calcular_distancia_rota(rota)\n",
        "\n",
        "        # Verifica se a distância da rota calculada é menor que a menor distância encontrada até agora.\n",
        "        # Se for, atualiza as variáveis menor_distancia e menor_rota.\n",
        "        if distancia_rota < menor_distancia:\n",
        "            menor_distancia = distancia_rota\n",
        "            menor_rota = rota\n",
        "\n",
        "    # Retorna a menor rota encontrada e sua respectiva distância.\n",
        "    return menor_rota, menor_distancia\n"
      ],
      "metadata": {
        "id": "idxaPkqs5ZBo"
      },
      "execution_count": null,
      "outputs": []
    },
    {
      "cell_type": "code",
      "source": [
        "origem = (0,0)\n",
        "destino = (4,4)\n",
        "\n",
        "enderecos = [(2,2), (2, 1), (5, 3), (8, 3), (10, 5), (9, 4), (8, 7), (6, 3), (9, 6), (7, 5)]# 10! vezes reperesenta o numero permutações calculadas\n",
        "\n",
        "menor_rota, menor_distancia = forca_bruta(origem, destino, enderecos)\n",
        "desenhar_rota(menor_rota)"
      ],
      "metadata": {
        "colab": {
          "base_uri": "https://localhost:8080/",
          "height": 452
        },
        "id": "Mx5eXWRp5Zwy",
        "outputId": "16cf878c-2e0f-4b83-af85-2be6f2a29ecb"
      },
      "execution_count": null,
      "outputs": [
        {
          "output_type": "display_data",
          "data": {
            "text/plain": [
              "<Figure size 640x480 with 1 Axes>"
            ],
            "image/png": "[encoded data removed]"
          },
          "metadata": {}
        }
      ]
    }
  ]
}
